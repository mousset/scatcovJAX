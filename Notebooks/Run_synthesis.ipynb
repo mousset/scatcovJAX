{
 "cells": [
  {
   "cell_type": "code",
   "execution_count": 1,
   "metadata": {
    "ExecuteTime": {
     "start_time": "2023-03-08T17:09:12.756300Z",
     "end_time": "2023-03-08T17:09:15.521703Z"
    }
   },
   "outputs": [],
   "source": [
    "# Specify CUDA device\n",
    "# import os\n",
    "# os.environ['CUDA_VISIBLE_DEVICES'] = 'gpu'\n",
    "\n",
    "from jax import jit, config, grad\n",
    "config.update(\"jax_enable_x64\", True)\n",
    "\n",
    "# Check we're running on GPU\n",
    "# from jax.lib import xla_bridge\n",
    "# print(xla_bridge.get_backend().platform)\n",
    "\n",
    "import numpy as np\n",
    "import jax.numpy as jnp\n",
    "import optax\n",
    "\n",
    "from matplotlib import pyplot as plt\n",
    "from importlib import reload\n",
    "\n",
    "import scatcovjax.Sphere_lib as sphlib\n",
    "import scatcovjax.Synthesis_lib as synlib\n",
    "import scatcovjax.Scattering_lib as scatlib\n",
    "from scatcovjax.Scattering_lib import scat_cov_axi, scat_cov_dir\n",
    "from s2wav.filter_factory.filters import filters_directional_vectorised\n",
    "\n",
    "import s2fft\n",
    "import s2wav\n",
    "\n",
    "import scatcovjax.plotting as plot\n",
    "plot.notebook_plot_format()"
   ]
  },
  {
   "cell_type": "markdown",
   "source": [
    "# Parameters"
   ],
   "metadata": {
    "collapsed": false
   }
  },
  {
   "cell_type": "code",
   "execution_count": 2,
   "metadata": {
    "ExecuteTime": {
     "start_time": "2023-03-08T17:09:15.504886Z",
     "end_time": "2023-03-08T17:09:15.534444Z"
    }
   },
   "outputs": [
    {
     "name": "stdout",
     "output_type": "stream",
     "text": [
      "J=3\n",
      "axi=False\n"
     ]
    }
   ],
   "source": [
    "sampling = \"mw\"\n",
    "multiresolution = True\n",
    "reality = True\n",
    "\n",
    "L = 8\n",
    "N = 3\n",
    "J_min = 0\n",
    "\n",
    "J = s2wav.utils.shapes.j_max(L)\n",
    "print(f'{J=}')\n",
    "\n",
    "axi = True if N == 1 else False  # Axisym or directional\n",
    "print(f'{axi=}')"
   ]
  },
  {
   "cell_type": "markdown",
   "metadata": {},
   "source": [
    "# Target map"
   ]
  },
  {
   "cell_type": "code",
   "execution_count": null,
   "metadata": {
    "ExecuteTime": {
     "start_time": "2023-03-08T13:45:11.512948Z",
     "end_time": "2023-03-08T13:46:00.646247Z"
    }
   },
   "outputs": [
    {
     "name": "stdout",
     "output_type": "stream",
     "text": [
      "toto\n"
     ]
    }
   ],
   "source": [
    "reload(sphlib)\n",
    "f_target, flm_target = sphlib.make_MW_planet(L, 'venus', normalize=True, reality=reality)\n"
   ]
  },
  {
   "cell_type": "code",
   "execution_count": null,
   "metadata": {
    "ExecuteTime": {
     "start_time": "2023-03-08T13:46:00.651947Z",
     "end_time": "2023-03-08T13:46:02.185552Z"
    }
   },
   "outputs": [],
   "source": [
    "# Plot the map\n",
    "mx, mn = np.nanmax(f_target), np.nanmin(f_target)\n",
    "plot.plot_map_MW_Mollweide(f_target, figsize=(8, 6), vmin=mn, vmax=mx)"
   ]
  },
  {
   "cell_type": "markdown",
   "metadata": {},
   "source": [
    "# Wavelets"
   ]
  },
  {
   "cell_type": "code",
   "execution_count": null,
   "metadata": {
    "ExecuteTime": {
     "start_time": "2023-03-08T13:46:02.191040Z",
     "end_time": "2023-03-08T13:46:02.197026Z"
    }
   },
   "outputs": [],
   "source": [
    "filters = filters_directional_vectorised(L, N, J_min)[0]\n",
    "print(filters.shape)\n",
    "\n",
    "# plot.plot_filters(filters, real=True, m=L-1)"
   ]
  },
  {
   "cell_type": "markdown",
   "source": [
    "# Compute the coeff of the target"
   ],
   "metadata": {
    "collapsed": false
   }
  },
  {
   "cell_type": "code",
   "execution_count": null,
   "metadata": {
    "ExecuteTime": {
     "start_time": "2023-03-07T13:31:09.381929Z",
     "end_time": "2023-03-07T13:31:24.823552Z"
    }
   },
   "outputs": [
    {
     "name": "stdout",
     "output_type": "stream",
     "text": [
      "quad done\n",
      "precomps done\n",
      "W start\n",
      "W done\n",
      "Mlm done\n",
      "starting Njj\n",
      "Mlm done\n",
      "starting Njj\n",
      "Mlm done\n",
      "starting Njj\n",
      "Mlm done\n",
      "starting Njj\n",
      "starting C01, C11\n",
      "0\n",
      "C01 ok\n",
      "C11 ok\n",
      "1\n",
      "C01 ok\n",
      "C11 ok\n",
      "2\n",
      "C01 ok\n",
      "C11 ok\n"
     ]
    }
   ],
   "source": [
    "# weights = scatlib.quadrature(L, J_min, sampling, None, multiresolution)\n",
    "# precomps = s2wav.transforms.jax_wavelets.generate_wigner_precomputes(L, N, J_min, 2.0, sampling, None, False, reality, multiresolution)\n",
    "reload(scatlib)\n",
    "if axi:\n",
    "    tmean, tvar, tS1, tP00, tC01, tC11 = scatlib.scat_cov_axi(flm_target, L, N, J_min, sampling, None,\n",
    "                                                reality, multiresolution, filters=filters)\n",
    "else:\n",
    "    tmean, tvar, tS1, tP00, tC01, tC11 = scatlib.scat_cov_dir(flm_target, L, N, J_min, sampling, None,\n",
    "                                                reality, multiresolution, filters=filters,\n",
    "                                                              quads=None, precomps=None)\n",
    "print(tmean, tC01)"
   ]
  },
  {
   "cell_type": "markdown",
   "source": [
    "# Initial condition"
   ],
   "metadata": {
    "collapsed": false
   }
  },
  {
   "cell_type": "code",
   "execution_count": null,
   "outputs": [],
   "source": [
    "f = np.random.randn(L, 2*L-1).astype(np.float64)\n",
    "flm = s2fft.forward_jax(f, L, reality=reality)\n",
    "flm = flm[:,L-1:] if reality else flm\n",
    "\n",
    "flm_start = jnp.copy(flm)"
   ],
   "metadata": {
    "collapsed": false,
    "ExecuteTime": {
     "start_time": "2023-03-07T13:31:24.823509Z",
     "end_time": "2023-03-07T13:31:24.842619Z"
    }
   }
  },
  {
   "cell_type": "markdown",
   "metadata": {},
   "source": [
    "# Define the loss"
   ]
  },
  {
   "cell_type": "code",
   "execution_count": null,
   "metadata": {
    "ExecuteTime": {
     "start_time": "2023-03-07T13:31:31.692443Z",
     "end_time": "2023-03-07T13:31:31.709744Z"
    }
   },
   "outputs": [],
   "source": [
    "@jit\n",
    "def loss_func(flm):\n",
    "    if axi:\n",
    "        mean_new, var_new, S1_new, P00_new, C01_new, C11_new = scat_cov_axi(flm, L, N, J_min, sampling, \n",
    "                                                                            None, reality, multiresolution, \n",
    "                                                                            normalisation=None, filters=filters)\n",
    "    else:\n",
    "        mean_new, var_new, S1_new, P00_new, C01_new, C11_new = scat_cov_dir(flm, L, N, J_min, sampling, \n",
    "                                                                            None, reality, multiresolution, \n",
    "                                                                            normalisation=None, filters=filters)\n",
    "    # Control for mean + var\n",
    "    loss = synlib.chi2(tmean, mean_new)\n",
    "    loss += synlib.chi2(tvar, var_new)\n",
    "    \n",
    "    # Add S1, P00, C01, C11 losses\n",
    "    loss += synlib.chi2(tS1, S1_new)\n",
    "    loss += synlib.chi2(tP00, P00_new)\n",
    "    loss += synlib.chi2(tC01, C01_new)\n",
    "    loss += synlib.chi2(tC11, C11_new)\n",
    "    \n",
    "    return loss\n"
   ]
  },
  {
   "cell_type": "markdown",
   "source": [
    "# Run the synthesis"
   ],
   "metadata": {
    "collapsed": false
   }
  },
  {
   "cell_type": "code",
   "execution_count": null,
   "metadata": {
    "scrolled": true,
    "ExecuteTime": {
     "start_time": "2023-03-07T13:31:58.572970Z",
     "end_time": "2023-03-07T13:32:52.287100Z"
    }
   },
   "outputs": [],
   "source": [
    "# Naive implementation\n",
    "flm, loss_history = synlib.fit_brutal(flm, loss_func, momentum=2., niter=10)"
   ]
  },
  {
   "cell_type": "code",
   "execution_count": null,
   "outputs": [],
   "source": [
    "# Using Optax\n",
    "# optimizer = optax.adagrad(learning_rate=1.)\n",
    "optimizer = optax.sgd(learning_rate=1.)\n",
    "flm, loss_history = synlib.fit_optax(flm, optimizer, loss_func, niter=12)"
   ],
   "metadata": {
    "collapsed": false,
    "ExecuteTime": {
     "start_time": "2023-03-07T13:33:34.873109Z",
     "end_time": "2023-03-07T13:34:07.413747Z"
    }
   }
  },
  {
   "cell_type": "markdown",
   "metadata": {},
   "source": [
    "# Check the synthesis"
   ]
  },
  {
   "cell_type": "code",
   "execution_count": null,
   "outputs": [],
   "source": [
    "reload(sphlib)\n",
    "if reality:\n",
    "    flm_full_target = sphlib.make_flm_full(flm_target, L)\n",
    "    flm_full_start = sphlib.make_flm_full(flm_start, L)\n",
    "    flm_full_end = sphlib.make_flm_full(flm, L)\n",
    "else:\n",
    "    flm_full_target = flm_target\n",
    "    flm_full_start = flm_start\n",
    "    flm_full_end = flm\n",
    "\n",
    "f_target = s2fft.inverse_jax(flm_full_target, L, reality=reality)\n",
    "f_start = s2fft.inverse_jax(flm_full_start, L, reality=reality)\n",
    "f_end = s2fft.inverse_jax(flm_full_end, L, reality=reality)"
   ],
   "metadata": {
    "collapsed": false
   }
  },
  {
   "cell_type": "markdown",
   "source": [
    "### Plot the loss"
   ],
   "metadata": {
    "collapsed": false
   }
  },
  {
   "cell_type": "code",
   "execution_count": null,
   "metadata": {
    "ExecuteTime": {
     "start_time": "2023-03-07T13:34:07.405329Z",
     "end_time": "2023-03-07T13:34:07.664679Z"
    }
   },
   "outputs": [],
   "source": [
    "plt.figure(figsize=(8, 6))\n",
    "plt.plot(loss_history)\n",
    "plt.yscale('log')\n",
    "plt.ylabel('Loss')\n",
    "plt.xlabel('Number of iterations')"
   ]
  },
  {
   "cell_type": "code",
   "execution_count": null,
   "metadata": {
    "ExecuteTime": {
     "start_time": "2023-03-07T13:34:07.665413Z",
     "end_time": "2023-03-07T13:34:08.259606Z"
    }
   },
   "outputs": [],
   "source": [
    "fig, (ax1,ax2, ax3) = plt.subplots(1,3, figsize=(20,10))\n",
    "ax1.imshow(f_target, vmax=mx, vmin=mn, cmap='viridis')\n",
    "ax2.imshow(f_start, vmax=mx, vmin=mn, cmap='viridis')\n",
    "ax3.imshow(f_end, vmax=mx, vmin=mn, cmap='viridis')\n",
    "plt.show()"
   ]
  },
  {
   "cell_type": "code",
   "execution_count": null,
   "metadata": {
    "scrolled": false,
    "ExecuteTime": {
     "start_time": "2023-03-07T13:34:08.258087Z",
     "end_time": "2023-03-07T13:34:09.956002Z"
    }
   },
   "outputs": [],
   "source": [
    "plot.plot_map_MW_Mollweide(f_target, vmin=mn, vmax=mx, title='Target')"
   ]
  },
  {
   "cell_type": "code",
   "execution_count": null,
   "metadata": {
    "scrolled": false,
    "ExecuteTime": {
     "start_time": "2023-03-07T13:34:09.955350Z",
     "end_time": "2023-03-07T13:34:11.484044Z"
    }
   },
   "outputs": [],
   "source": [
    "\n",
    "plot.plot_map_MW_Mollweide(f_end, vmin=mn, vmax=mx, title='Output', central_longitude=0)"
   ]
  },
  {
   "cell_type": "markdown",
   "metadata": {},
   "source": [
    "### Power spectrum"
   ]
  },
  {
   "cell_type": "code",
   "execution_count": null,
   "metadata": {},
   "outputs": [],
   "source": [
    "\n"
   ]
  },
  {
   "cell_type": "code",
   "execution_count": null,
   "metadata": {},
   "outputs": [],
   "source": [
    "reload(sphlib)\n",
    "ps_target = sphlib.compute_ps(flm_full_target)\n",
    "ps_start = sphlib.compute_ps(flm_full_start)\n",
    "ps_end = sphlib.compute_ps(flm_full_end)\n",
    "\n",
    "plt.figure(figsize=(8, 6))\n",
    "plt.plot(ps_target, 'b', label=\"target\")\n",
    "plt.plot(ps_start, 'g', label=\"start\")\n",
    "plt.plot(ps_end, 'r', label=\"end\")\n",
    "plt.yscale(\"log\")\n",
    "plt.xlabel(r'Multipole $\\ell$')\n",
    "plt.ylabel('Power spectrum')\n",
    "plt.grid()\n",
    "plt.legend()"
   ]
  },
  {
   "cell_type": "markdown",
   "metadata": {},
   "source": [
    "### Plot the coefficients"
   ]
  },
  {
   "cell_type": "code",
   "execution_count": null,
   "outputs": [],
   "source": [],
   "metadata": {
    "collapsed": false
   }
  },
  {
   "cell_type": "code",
   "execution_count": null,
   "metadata": {},
   "outputs": [],
   "source": [
    "tmean, tvar, tS1, tP00, tC01, tC11 = scat_cov_axi(flm_full_target, L, N, J_min, sampling, None,\n",
    "                                                  reality=False,\n",
    "                                                  multiresolution=multiresolution,\n",
    "                                                  filters=filters)\n",
    "smean, svar, sS1, sP00, sC01, sC11 = scat_cov_axi(flm_full_start, L, N, J_min, sampling, None,\n",
    "                                                  reality=False,\n",
    "                                                  multiresolution=multiresolution,\n",
    "                                                  filters=filters)\n",
    "emean, evar, eS1, eP00, eC01, eC11 = scat_cov_axi(flm_full_end, L, N, J_min, sampling, None,\n",
    "                                                  reality=False,\n",
    "                                                  multiresolution=multiresolution,\n",
    "                                                  filters=filters)"
   ]
  },
  {
   "cell_type": "code",
   "execution_count": null,
   "metadata": {},
   "outputs": [],
   "source": [
    "reload(plot)\n",
    "plot.plot_scatcov_coeffs(tS1, tP00, tC01, tC11, name='Target', hold=True, color='blue', lw=1)\n",
    "\n",
    "plot.plot_scatcov_coeffs(sS1, sP00, sC01, sC11, name='Start', hold=False, color='green', lw=1)\n",
    "\n",
    "plot.plot_scatcov_coeffs(eS1, eP00, eC01, eC11, name='End', hold=False, color='red', lw=1)"
   ]
  },
  {
   "cell_type": "code",
   "execution_count": null,
   "outputs": [],
   "source": [],
   "metadata": {
    "collapsed": false
   }
  }
 ],
 "metadata": {
  "kernelspec": {
   "display_name": "Python 3 (ipykernel)",
   "language": "python",
   "name": "python3"
  },
  "language_info": {
   "codemirror_mode": {
    "name": "ipython",
    "version": 3
   },
   "file_extension": ".py",
   "mimetype": "text/x-python",
   "name": "python",
   "nbconvert_exporter": "python",
   "pygments_lexer": "ipython3",
   "version": "3.9.16"
  }
 },
 "nbformat": 4,
 "nbformat_minor": 1
}
