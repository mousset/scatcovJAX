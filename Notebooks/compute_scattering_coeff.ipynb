{
 "cells": [
  {
   "cell_type": "code",
   "execution_count": null,
   "metadata": {
    "collapsed": true
   },
   "outputs": [],
   "source": [
    "from jax import jit, config\n",
    "\n",
    "config.update(\"jax_enable_x64\", True)\n",
    "\n",
    "import numpy as np\n",
    "import jax.numpy as jnp\n",
    "from functools import partial\n",
    "from typing import List, Tuple\n",
    "\n",
    "import s2wav\n",
    "import s2fft"
   ]
  },
  {
   "cell_type": "code",
   "execution_count": null,
   "outputs": [],
   "source": [
    "sampling = \"mw\"\n",
    "multiresolution = True\n",
    "reality = True\n",
    "nside = 16\n",
    "L = 3 * nside\n",
    "N = 1\n",
    "J_min = 0\n",
    "np.random.seed(0)\n",
    "\n"
   ],
   "metadata": {
    "collapsed": false
   }
  },
  {
   "cell_type": "code",
   "execution_count": null,
   "outputs": [],
   "source": [
    "filters = s2wav.filter_factory.filters.filters_directional_vectorised(\n",
    "    L, N, J_min\n",
    ")\n",
    "\n",
    "I = np.random.randn(L, 2 * L - 1).astype(np.float64)\n",
    "Ilm = s2fft.forward_jax(I, L)\n",
    "mean, var, S1, P00, C01, C11 = scat_cov_axi(\n",
    "    Ilm, L, N, J_min, sampling, reality, multiresolution, filters\n",
    ")\n",
    "\n",
    "S1 = np.log2(np.array(S1))\n",
    "P00 = np.log2(np.array(P00))\n",
    "\n",
    "from matplotlib import pyplot as plt\n",
    "\n",
    "fig, (ax1, ax2) = plt.subplots(1, 2)\n",
    "ax1.plot(S1[:-1])\n",
    "ax2.plot(P00[:-1])\n",
    "plt.show()"
   ],
   "metadata": {
    "collapsed": false
   }
  },
  {
   "cell_type": "code",
   "execution_count": null,
   "outputs": [],
   "source": [],
   "metadata": {
    "collapsed": false
   }
  }
 ],
 "metadata": {
  "kernelspec": {
   "display_name": "Python 3",
   "language": "python",
   "name": "python3"
  },
  "language_info": {
   "codemirror_mode": {
    "name": "ipython",
    "version": 2
   },
   "file_extension": ".py",
   "mimetype": "text/x-python",
   "name": "python",
   "nbconvert_exporter": "python",
   "pygments_lexer": "ipython2",
   "version": "2.7.6"
  }
 },
 "nbformat": 4,
 "nbformat_minor": 0
}
