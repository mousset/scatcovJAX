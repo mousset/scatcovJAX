{
 "cells": [
  {
   "cell_type": "code",
   "execution_count": null,
   "metadata": {},
   "outputs": [],
   "source": [
    "# Specify CUDA device\n",
    "import os\n",
    "os.environ['CUDA_VISIBLE_DEVICES'] = '1'\n",
    "\n",
    "from jax.config import config\n",
    "config.update(\"jax_enable_x64\", True)\n",
    "\n",
    "# Check we're running on GPU\n",
    "from jax.lib import xla_bridge\n",
    "print(xla_bridge.get_backend().platform)\n",
    "\n",
    "from jax import jit, grad \n",
    "import jax.numpy as jnp \n",
    "import numpy as np \n",
    "\n",
    "from matplotlib.image import pil_to_array\n",
    "from PIL import Image\n",
    "\n",
    "import s2fft \n",
    "import s2wav \n",
    "from scatcovjax.Scattering_lib import scat_cov_dir, quadrature"
   ]
  },
  {
   "cell_type": "code",
   "execution_count": null,
   "metadata": {},
   "outputs": [],
   "source": [
    "sampling = \"mw\"\n",
    "multiresolution = True\n",
    "reality = True\n",
    "L = 256\n",
    "N = 3\n",
    "J_min = 0\n",
    "np.random.seed(98956)"
   ]
  },
  {
   "cell_type": "code",
   "execution_count": null,
   "metadata": {},
   "outputs": [],
   "source": [
    "# Planet image\n",
    "# import pyssht as ssht\n",
    "# grayscale_pil_image = Image.open('../texture_maps/venus.jpg').convert(\"L\")\n",
    "# I = pil_to_array(grayscale_pil_image).astype(np.float64)\n",
    "# I = np.ascontiguousarray(I[:,:-1])\n",
    "# L_temp = I.shape[0]\n",
    "# Ilm = ssht.forward(I, L_temp, Reality=reality)\n",
    "# Ilm = Ilm[:L**2]\n",
    "# I = ssht.inverse(Ilm, L, Reality=reality)\n",
    "\n",
    "# Weak lensing map\n",
    "I = np.load(f'../texture_maps/raw_data/CosmoML_shell_40_L_{L}.npy')\n",
    "I -= np.nanmean(I)\n",
    "I /= np.nanstd(I)\n",
    "Ilm = s2fft.forward_jax(I, L, reality=reality)"
   ]
  },
  {
   "cell_type": "code",
   "execution_count": null,
   "metadata": {},
   "outputs": [],
   "source": [
    "filters = s2wav.filter_factory.filters.filters_directional_vectorised(L, N, J_min)[0]\n",
    "weights = quadrature(L, J_min, sampling, None, multiresolution)\n",
    "precomps = s2wav.transforms.jax_wavelets.generate_wigner_precomputes(L, N, J_min, 2.0, sampling, None, False, reality, multiresolution)\n",
    "\n",
    "f = np.random.randn(L,2*L-1).astype(np.float64)\n",
    "flm = s2fft.forward_jax(f, L, reality=reality)\n",
    "flm = flm[:,L-1:] if reality else flm\n",
    "flm_start = jnp.copy(flm)"
   ]
  },
  {
   "cell_type": "code",
   "execution_count": null,
   "metadata": {},
   "outputs": [],
   "source": [
    "ps_true = jnp.sum(jnp.abs(Ilm[:,L-1:])**2, axis=-1)\n",
    "@jit\n",
    "def func_ps_only(flm):\n",
    "    ps = jnp.sum(jnp.abs(flm)**2, axis=-1)\n",
    "    return jnp.sum(jnp.abs(ps - ps_true)**2)\n",
    "grad_func_ps = jit(grad(func_ps_only))\n",
    "\n",
    "loss_0_ps = func_ps_only(flm_start)\n",
    "\n",
    "import optax \n",
    "lr = 1e-3\n",
    "optimizer = optax.adam(lr)\n",
    "opt_state = optimizer.init(flm)\n",
    "\n",
    "for i in range(1000):\n",
    "    grads = jnp.conj(grad_func_ps(flm))\n",
    "    updates, opt_state = optimizer.update(grads, opt_state)\n",
    "    flm = optax.apply_updates(flm, updates)\n",
    "    if i % 100 == 0: \n",
    "        print(f\"Iteration {i}: Loss/Loss-0 = {func_ps_only(flm)}/{loss_0_ps}\")"
   ]
  },
  {
   "cell_type": "code",
   "execution_count": null,
   "metadata": {},
   "outputs": [],
   "source": [
    "mean, var, S1, P00, C01, C11 = scat_cov_dir(Ilm[:,L-1:], L, N, J_min, sampling, None, reality, multiresolution, filters=filters, quads=weights, precomps=precomps)"
   ]
  },
  {
   "cell_type": "code",
   "execution_count": null,
   "metadata": {},
   "outputs": [],
   "source": [
    "@jit\n",
    "def func(flm):\n",
    "    mean_new, var_new, S1_new, P00_new, C01_new, C11_new = scat_cov_dir(flm, L, N, J_min, sampling, None, reality, multiresolution, filters=filters, quads=weights, precomps=precomps)\n",
    "\n",
    "    # Control for mean + var\n",
    "    loss = jnp.abs(mean-mean_new)**2\n",
    "    loss += jnp.abs(var-var_new)**2\n",
    "    \n",
    "    # Add S1 loss\n",
    "    loss += jnp.sum(jnp.abs(S1-S1_new)**2)\n",
    "\n",
    "    # Add P00 loss\n",
    "    loss += jnp.sum(jnp.abs(P00-P00_new)**2)\n",
    "\n",
    "    # Add C01 loss\n",
    "    loss += jnp.sum(jnp.abs(C01-C01_new)**2)\n",
    "\n",
    "    # Add C11 loss\n",
    "    loss += jnp.sum(jnp.abs(C11-C11_new)**2)\n",
    "\n",
    "    return loss\n",
    "\n",
    "grad_func = jit(grad(func))\n",
    "loss_0 = func(flm_start)"
   ]
  },
  {
   "cell_type": "code",
   "execution_count": null,
   "metadata": {},
   "outputs": [],
   "source": [
    "import optax \n",
    "lr = 1e-2\n",
    "optimizer = optax.adam(lr)\n",
    "opt_state = optimizer.init(flm)\n",
    "\n",
    "for i in range(100000):\n",
    "    grads = jnp.conj(grad_func(flm))\n",
    "    updates, opt_state = optimizer.update(grads, opt_state)\n",
    "    flm = optax.apply_updates(flm, updates)\n",
    "    if i % 10 == 0: \n",
    "        print(f\"Iteration {i}: Loss/Loss-0 = {func(flm)}/{loss_0}\")"
   ]
  },
  {
   "cell_type": "code",
   "execution_count": null,
   "metadata": {},
   "outputs": [],
   "source": [
    "from matplotlib import pyplot as plt \n",
    "\n",
    "if reality:\n",
    "    # Create and store signs \n",
    "    msigns = (-1)**jnp.arange(1,L)\n",
    "\n",
    "    # Reflect and apply hermitian symmetry\n",
    "    flm_full_end = jnp.zeros((L, 2*L-1), dtype=jnp.complex128)\n",
    "    flm_full_end = flm_full_end.at[:,L-1:].set(flm)\n",
    "    flm_full_end = flm_full_end.at[:, : L - 1].set(jnp.flip(jnp.conj(flm_full_end[:, L:])*msigns, axis=-1))\n",
    "\n",
    "    # Reflect and apply hermitian symmetry\n",
    "    flm_full_start = jnp.zeros((L, 2*L-1), dtype=jnp.complex128)\n",
    "    flm_full_start = flm_full_start.at[:,L-1:].set(flm_start)\n",
    "    flm_full_start = flm_full_start.at[:, : L - 1].set(jnp.flip(jnp.conj(flm_full_start[:, L:])*msigns, axis=-1))\n",
    "\n",
    "I = s2fft.inverse_jax(Ilm, L, reality=reality)\n",
    "f_start = s2fft.inverse_jax(flm_full_start, L, reality=reality)\n",
    "f_end = s2fft.inverse_jax(flm_full_end, L, reality=reality)\n",
    "\n",
    "mx, mn = np.nanmax(I), np.nanmin(I)\n",
    "fig, (ax1,ax2, ax3) = plt.subplots(3,1, figsize=(14,20), dpi=200)\n",
    "ax1.imshow(I, vmax=mx, vmin=mn, cmap='magma')\n",
    "ax2.imshow(f_start, vmax=mx, vmin=mn, cmap='magma')\n",
    "ax3.imshow(f_end, vmax=mx, vmin=mn, cmap='magma')\n",
    "plt.show()"
   ]
  },
  {
   "cell_type": "code",
   "execution_count": null,
   "metadata": {},
   "outputs": [],
   "source": [
    "# Upscale for nice plot\n",
    "L_new = 2*L\n",
    "data = [I, f_start, f_end]\n",
    "data_new = []\n",
    "import pyssht as ssht\n",
    "for d, datum in enumerate(data):\n",
    "    dlm = ssht.forward(np.array(datum),L)\n",
    "    dlm_new = np.zeros(L_new**2, dtype=np.complex128)\n",
    "    dlm_new[:L**2] = dlm\n",
    "    data_new.append(np.real(ssht.inverse(dlm_new, L_new)))\n",
    "\n",
    "mx, mn = np.nanmax(data_new[0]), np.nanmin(data_new[0])\n",
    "fig, (ax1,ax2, ax3) = plt.subplots(3,1, figsize=(14,20), dpi=200)\n",
    "ax1.imshow(data_new[0], vmax=mx, vmin=mn, cmap='magma')\n",
    "ax2.imshow(data_new[1], vmax=mx, vmin=mn, cmap='magma')\n",
    "ax3.imshow(data_new[2], vmax=mx, vmin=mn, cmap='magma')\n",
    "plt.show()"
   ]
  },
  {
   "cell_type": "code",
   "execution_count": null,
   "metadata": {},
   "outputs": [],
   "source": [
    "def compute_ps(flm):\n",
    "    return jnp.sum(jnp.abs(flm)**2,axis=-1)"
   ]
  },
  {
   "cell_type": "code",
   "execution_count": null,
   "metadata": {},
   "outputs": [],
   "source": [
    "from matplotlib import pyplot as plt \n",
    "ps_true = compute_ps(Ilm)\n",
    "ps_start = compute_ps(flm_full_start)\n",
    "ps_end = compute_ps(flm_full_end)\n",
    "plt.plot(ps_true, 'b', label=\"target\")\n",
    "plt.plot(ps_start, 'r', label=\"start\")\n",
    "plt.plot(ps_end, 'g', label=\"end\")\n",
    "plt.yscale(\"log\")\n",
    "plt.legend()\n",
    "plt.show()"
   ]
  },
  {
   "cell_type": "code",
   "execution_count": null,
   "metadata": {},
   "outputs": [],
   "source": [
    "mean_start, var_start, S1_start, P00_start, C01_start, C11_start = scat_cov_dir(flm_start, L, N, J_min, sampling, None, reality, multiresolution, filters=filters, quads=weights, precomps=precomps)\n",
    "mean_end, var_end, S1_end, P00_end, C01_end, C11_end = scat_cov_dir(flm, L, N, J_min, sampling, None, reality, multiresolution, filters=filters, quads=weights, precomps=precomps)\n",
    "\n",
    "print(\"mean\", np.real(mean), np.real(mean_start), np.real(mean_end))\n",
    "print(\"var\", np.real(var), np.real(var_start), np.real(var_end))"
   ]
  },
  {
   "cell_type": "code",
   "execution_count": null,
   "metadata": {},
   "outputs": [],
   "source": [
    "fig, (ax1,ax2,ax3) = plt.subplots(3,1, figsize=(40,8))\n",
    "y_max, y_min = np.nanmax(np.real(S1)), np.nanmin(np.real(S1))\n",
    "ax1.plot(np.real(S1), 'b', label=\"Target\")\n",
    "ax2.plot(np.real(S1_start), 'r', label=\"Target\")\n",
    "ax3.plot(np.real(S1_end), 'g', label=\"Target\")\n",
    "ax1.set_ylim([y_min, y_max])\n",
    "ax2.set_ylim([y_min, y_max])\n",
    "ax3.set_ylim([y_min, y_max])\n",
    "plt.show()"
   ]
  },
  {
   "cell_type": "code",
   "execution_count": null,
   "metadata": {},
   "outputs": [],
   "source": [
    "fig, (ax1,ax2,ax3) = plt.subplots(3,1, figsize=(40,8))\n",
    "y_max, y_min = np.nanmax(np.real(P00)), np.nanmin(np.real(P00))\n",
    "ax1.plot(np.real(P00), 'b', label=\"Target\")\n",
    "ax2.plot(np.real(P00_start), 'r', label=\"Target\")\n",
    "ax3.plot(np.real(P00_end), 'g', label=\"Target\")\n",
    "ax1.set_ylim([y_min, y_max])\n",
    "ax2.set_ylim([y_min, y_max])\n",
    "ax3.set_ylim([y_min, y_max])\n",
    "plt.show()"
   ]
  },
  {
   "cell_type": "code",
   "execution_count": null,
   "metadata": {},
   "outputs": [],
   "source": [
    "fig, (ax1,ax2,ax3) = plt.subplots(3,1, figsize=(40,8))\n",
    "y_max, y_min = np.nanmax(np.real(C01)), np.nanmin(np.real(C01))\n",
    "ax1.plot(np.real(C01), 'b', label=\"Target\")\n",
    "ax2.plot(np.real(C01_start), 'r', label=\"Target\")\n",
    "ax3.plot(np.real(C01_end), 'g', label=\"Target\")\n",
    "ax1.set_ylim([y_min, y_max])\n",
    "ax2.set_ylim([y_min, y_max])\n",
    "ax3.set_ylim([y_min, y_max])\n",
    "plt.show()"
   ]
  },
  {
   "cell_type": "code",
   "execution_count": null,
   "metadata": {},
   "outputs": [],
   "source": [
    "fig, (ax1,ax2,ax3) = plt.subplots(3,1, figsize=(40,8))\n",
    "y_max, y_min = np.nanmax(np.real(C11)), np.nanmin(np.real(C11))\n",
    "ax1.plot(np.real(C11), 'b', label=\"Target\")\n",
    "ax2.plot(np.real(C11_start), 'r', label=\"Target\")\n",
    "ax3.plot(np.real(C11_end), 'g', label=\"Target\")\n",
    "ax1.set_ylim([y_min, y_max])\n",
    "ax2.set_ylim([y_min, y_max])\n",
    "ax3.set_ylim([y_min, y_max])\n",
    "plt.show()"
   ]
  },
  {
   "cell_type": "code",
   "execution_count": null,
   "metadata": {},
   "outputs": [],
   "source": []
  }
 ],
 "metadata": {
  "kernelspec": {
   "display_name": "Python 3.9.16 64-bit ('s2wav')",
   "language": "python",
   "name": "python3"
  },
  "language_info": {
   "codemirror_mode": {
    "name": "ipython",
    "version": 3
   },
   "file_extension": ".py",
   "mimetype": "text/x-python",
   "name": "python",
   "nbconvert_exporter": "python",
   "pygments_lexer": "ipython3",
   "version": "3.9.16"
  },
  "orig_nbformat": 4,
  "vscode": {
   "interpreter": {
    "hash": "c43a7ce583eb30369310d71dfe50a453a2c5dffb4d0e5b8318a83ceec6803b32"
   }
  }
 },
 "nbformat": 4,
 "nbformat_minor": 2
}
