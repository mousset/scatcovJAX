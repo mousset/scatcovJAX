{
 "cells": [
  {
   "cell_type": "markdown",
   "source": [
    "# Check mathematical results\n",
    "\n",
    "Created by Louise 15-05-2023\n",
    "\n",
    "The goal is to check mathematical results we often use, especially the ones related to spherical harmonics transforms, mean computation\n",
    "\n",
    "We want to verify average calculation\n",
    "\n",
    "**Potentiels problèmes:**\n",
    "Avec l'ancienne version, il fallait faire attention à (voir si c'est encore valide ici):\n",
    "- Qd on fait ces tests, c'est important que les cartes et alm initiaux soient créés en faisant map0 => alm => map de façon à avoir la même énergie dans la carte et dans les alm, car il peut y avoir des hautes fréquences dans les cartes non prises en compte par les alm.\n",
    "- Les moyennes sur les cartes sont définies comme des moyennes et non des sommes (division par $4\\pi$). Ces facteurs $4\\pi$ doivent être pris en compte quand on compare des moyennes sur les $a_{\\ell m}$ à celles prises sur les cartes.\n",
    "- Il y a un facteur $2\\sqrt{\\pi}$ entre la moyenne sur $\\omega$ et le terme $(\\ell=0, m=0)$ de la transformée en HS, lié à la normalisation de $Y_{00}$.\n",
    "- Quand on fait une moyenne sur une carte MW, il faut prendre en compte l'aire $\\rm{d} \\Omega = \\sin\\theta \\rm{d}\\theta \\rm{d}\\phi$ des éléments de surface. C'est mieux d'évaluer $\\theta$ au centre de chaque pixel mais la correction est petite sauf pour les petits NSIDE (grands pixels). Ca doit être ok avec les quads..."
   ],
   "metadata": {
    "collapsed": false
   }
  },
  {
   "cell_type": "code",
   "execution_count": 4,
   "outputs": [],
   "source": [
    "from jax import jit, config\n",
    "\n",
    "import s2fft\n",
    "config.update(\"jax_enable_x64\", True)\n",
    "\n",
    "import numpy as np\n",
    "import healpy as hp\n",
    "from matplotlib import pyplot as plt\n",
    "from importlib import reload\n",
    "\n",
    "import s2wav\n",
    "from s2wav.filter_factory.filters import filters_directional_vectorised\n",
    "from s2wav.filter_factory.filters import filters_axisym_vectorised\n",
    "\n",
    "import scatcovjax.Sphere_lib as sphlib\n",
    "import scatcovjax.plotting as plot\n",
    "plot.notebook_plot_format()"
   ],
   "metadata": {
    "collapsed": false,
    "ExecuteTime": {
     "end_time": "2023-05-15T12:03:03.943393385Z",
     "start_time": "2023-05-15T12:03:03.873843667Z"
    }
   }
  },
  {
   "cell_type": "markdown",
   "source": [
    "# Make maps and flm used in the following tests on mean and variance\n",
    "\n",
    "We will work with 3 maps: random numbers, 1 everywhere, planet map.\n",
    "\n",
    "To get a map and the corresponding $f_{\\ell m}$ that contain the same amount of energy, we do map0 => alm => map. This is because, as lmax is not infinity, when going to $f_{\\ell m}$ space, the information at small scales (above lmax) contained in map0 is lost."
   ],
   "metadata": {
    "collapsed": false
   }
  },
  {
   "cell_type": "code",
   "execution_count": 226,
   "outputs": [
    {
     "name": "stdout",
     "output_type": "stream",
     "text": [
      "6 7\n"
     ]
    }
   ],
   "source": [
    "sampling = \"mw\"\n",
    "multiresolution = True\n",
    "reality = True\n",
    "\n",
    "L = 64\n",
    "N = 2\n",
    "J_min = 0\n",
    "nside = None\n",
    "\n",
    "J_max = s2wav.utils.shapes.j_max(L)\n",
    "J = J_max -J_min + 1  # Number of scale used\n",
    "print(J_max, J)"
   ],
   "metadata": {
    "collapsed": false,
    "ExecuteTime": {
     "end_time": "2023-05-16T13:43:49.051697394Z",
     "start_time": "2023-05-16T13:43:49.035887955Z"
    }
   }
  },
  {
   "cell_type": "code",
   "execution_count": 228,
   "outputs": [
    {
     "name": "stdout",
     "output_type": "stream",
     "text": [
      "\n",
      " j=0 Lj=4\n",
      "11.279547886959266\n",
      "\n",
      " j=1 Lj=4\n",
      "11.279547886959266\n",
      "\n",
      " j=2 Lj=8\n",
      "5.263789013914324\n",
      "\n",
      " j=3 Lj=16\n",
      "2.5469946841520925\n",
      "\n",
      " j=4 Lj=32\n",
      "1.2532830985510295\n",
      "\n",
      " j=5 Lj=64\n",
      "0.6217073638481484\n",
      "\n",
      " j=6 Lj=64\n",
      "0.6217073638481484\n"
     ]
    }
   ],
   "source": [
    "I, Ilm, quads = [], [], []\n",
    "for j in range(J_min, J_max + 1):\n",
    "    Lj = s2wav.utils.shapes.wav_j_bandlimit(L, j, 2.0, multiresolution)\n",
    "    print(f'\\n {j=} {Lj=}')\n",
    "\n",
    "    ## One everywhere\n",
    "    I0 = np.ones((Lj, 2 * Lj - 1)).astype(np.float64)\n",
    "    Ilm_j = s2fft.forward_jax(I0, Lj, sampling=sampling, nside=nside)\n",
    "    Ilm.append(Ilm_j)\n",
    "    I.append(s2fft.inverse_jax(Ilm_j, Lj, reality=reality))\n",
    "\n",
    "    ### Random noise\n",
    "    # np.random.seed(2)\n",
    "    # I0 = np.random.randn(Lj, 2 * Lj - 1).astype(np.float64)\n",
    "    # Ilm_j = s2fft.forward_jax(I0, Lj, sampling=sampling, nside=nside)\n",
    "    # Ilm.append(Ilm_j)\n",
    "    # I.append(s2fft.inverse_jax(Ilm_j, Lj, reality=reality))\n",
    "\n",
    "    ### Planet\n",
    "    # I0, Ilm_j = sphlib.make_planet(Lj, 'venus', normalize=False, reality=False)\n",
    "    # Ilm.append(Ilm_j)  # [J][Lj, 2Lj-1]\n",
    "    # I.append(s2fft.inverse_jax(Ilm_j, Lj, reality=False))  # [J][Lj, 2Lj-1]\n",
    "\n",
    "    ### Quadrature weights\n",
    "    quad = s2fft.quadrature_jax.quad_weights(Lj, sampling, nside)\n",
    "    print(np.sum(quad)*2*np.pi)\n",
    "    quads.append(quad)  # [J][Lj]\n"
   ],
   "metadata": {
    "collapsed": false,
    "ExecuteTime": {
     "end_time": "2023-05-16T13:44:12.700410314Z",
     "start_time": "2023-05-16T13:44:12.550798939Z"
    }
   }
  },
  {
   "cell_type": "code",
   "execution_count": 229,
   "outputs": [
    {
     "data": {
      "text/plain": "<matplotlib.colorbar.Colorbar at 0x7f9e89de2020>"
     },
     "execution_count": 229,
     "metadata": {},
     "output_type": "execute_result"
    },
    {
     "data": {
      "text/plain": "<Figure size 1000x400 with 4 Axes>",
      "image/png": "[encoded data removed]"
     },
     "metadata": {},
     "output_type": "display_data"
    }
   ],
   "source": [
    "# Plot the Ilm and the map I at resolution j\n",
    "j = 1\n",
    "fig, (ax0, ax1) = plt.subplots(1, 2, figsize=(10, 4))\n",
    "fig.suptitle(f'{j=}')\n",
    "\n",
    "im0 = ax0.imshow(np.real(I[j - J_min]), origin='lower')\n",
    "ax0.set_xlabel(r'$\\phi$')\n",
    "ax0.set_ylabel(r'$\\theta$')\n",
    "fig.colorbar(im0, orientation='horizontal')\n",
    "\n",
    "im1 = ax1.imshow(np.real(Ilm[j - J_min]), origin='lower')\n",
    "ax1.set_xlabel('m indices')\n",
    "ax1.set_ylabel('l indices')\n",
    "fig.colorbar(im1, orientation='horizontal')"
   ],
   "metadata": {
    "collapsed": false,
    "ExecuteTime": {
     "end_time": "2023-05-16T13:44:15.094504719Z",
     "start_time": "2023-05-16T13:44:14.687788548Z"
    }
   }
  },
  {
   "cell_type": "markdown",
   "source": [
    "# Make quadrature weights\n",
    "\n",
    "A priori $quad \\simeq \\sin\\theta d\\theta d\\phi = \\sin\\theta \\frac{\\pi}{L}\\frac{2\\pi}{(2L-1)}$"
   ],
   "metadata": {
    "collapsed": false
   }
  },
  {
   "cell_type": "code",
   "execution_count": 230,
   "outputs": [
    {
     "name": "stdout",
     "output_type": "stream",
     "text": [
      "\n",
      " quad =  [5.28298898e-05 1.85824108e-04 2.99080707e-04 4.23858422e-04\n",
      " 5.38747453e-04 6.59235804e-04 7.72433821e-04 8.88556842e-04\n",
      " 9.98322850e-04 1.10934456e-03 1.21433436e-03 1.31936117e-03\n",
      " 1.41840492e-03 1.51651883e-03 1.60856137e-03 1.69887213e-03\n",
      " 1.78295582e-03 1.86462780e-03 1.93988944e-03 2.01215865e-03\n",
      " 2.07783151e-03 2.14001777e-03 2.19543559e-03 2.24695189e-03\n",
      " 2.29155325e-03 2.33191316e-03 2.36524570e-03 2.39406916e-03\n",
      " 2.41579312e-03 2.43281090e-03 2.44270182e-03 2.44775866e-03\n",
      " 2.44570920e-03 2.43876568e-03 2.42478630e-03 2.40591951e-03\n",
      " 2.38013819e-03 2.34954117e-03 2.31220189e-03 2.27018195e-03\n",
      " 2.22164220e-03 2.16861808e-03 2.10934510e-03 2.04584308e-03\n",
      " 1.97640916e-03 1.90305811e-03 1.82413466e-03 1.74166028e-03\n",
      " 1.65401083e-03 1.56322910e-03 1.46770105e-03 1.36951139e-03\n",
      " 1.26702610e-03 1.16240494e-03 1.05394497e-03 9.43942284e-04\n",
      " 8.30531571e-04 7.16278923e-04 5.98937433e-04 4.81711456e-04\n",
      " 3.61266629e-04 2.42993354e-04 1.17987143e-04 1.23669291e-05]\n",
      "\n",
      " thetas=array([0.02473695, 0.07421085, 0.12368475, 0.17315865, 0.22263255,\n",
      "       0.27210645, 0.32158035, 0.37105425, 0.42052815, 0.47000205,\n",
      "       0.51947595, 0.56894985, 0.61842375, 0.66789765, 0.71737155,\n",
      "       0.76684545, 0.81631935, 0.86579325, 0.91526715, 0.96474105,\n",
      "       1.01421495, 1.06368885, 1.11316275, 1.16263665, 1.21211055,\n",
      "       1.26158445, 1.31105835, 1.36053225, 1.41000615, 1.45948005,\n",
      "       1.50895395, 1.55842785, 1.60790175, 1.65737565, 1.70684955,\n",
      "       1.75632345, 1.80579735, 1.85527125, 1.90474515, 1.95421905,\n",
      "       2.00369295, 2.05316685, 2.10264075, 2.15211465, 2.20158855,\n",
      "       2.25106245, 2.30053635, 2.35001025, 2.39948415, 2.44895805,\n",
      "       2.49843195, 2.54790585, 2.59737975, 2.64685365, 2.69632755,\n",
      "       2.74580145, 2.79527535, 2.84474925, 2.89422315, 2.94369705,\n",
      "       2.99317095, 3.04264485, 3.09211875, 3.14159265])\n",
      "\n",
      " Ratio =  [1.13702025e+00 9.68975273e-01 1.00176519e+00 9.87181344e-01\n",
      " 9.95304296e-01 9.90082704e-01 9.93717519e-01 9.91029083e-01\n",
      " 9.93100963e-01 9.91449304e-01 9.92799749e-01 9.91671247e-01\n",
      " 9.92630798e-01 9.91802248e-01 9.92526890e-01 9.91885742e-01\n",
      " 9.92458676e-01 9.91941997e-01 9.92411703e-01 9.91981487e-01\n",
      " 9.92378190e-01 9.92010064e-01 9.92353654e-01 9.92031192e-01\n",
      " 9.92335374e-01 9.92047024e-01 9.92321629e-01 9.92058943e-01\n",
      " 9.92311299e-01 9.92067857e-01 9.92303642e-01 9.92074370e-01\n",
      " 9.92298169e-01 9.92078875e-01 9.92294568e-01 9.92081611e-01\n",
      " 9.92292666e-01 9.92082692e-01 9.92292407e-01 9.92082113e-01\n",
      " 9.92293856e-01 9.92079744e-01 9.92297222e-01 9.92075284e-01\n",
      " 9.92302914e-01 9.92068188e-01 9.92311658e-01 9.92057490e-01\n",
      " 9.92324746e-01 9.92041443e-01 9.92344586e-01 9.92016664e-01\n",
      " 9.92376068e-01 9.91975867e-01 9.92430508e-01 9.91900667e-01\n",
      " 9.92539686e-01 9.91732131e-01 9.92824465e-01 9.91189772e-01\n",
      " 9.94076751e-01 9.87299440e-01 1.01791222e+00 2.40488894e-14]\n"
     ]
    }
   ],
   "source": [
    "### On compare quad et sintheta dtheta dphi\n",
    "quad = s2fft.quadrature_jax.quad_weights(L, sampling=sampling, nside=nside)\n",
    "print('\\n quad = ', quad)\n",
    "\n",
    "# Make quad manually\n",
    "thetas = s2fft.samples.thetas(L, sampling=sampling)\n",
    "print(f'\\n {thetas=}')\n",
    "\n",
    "dtheta = np.pi / L\n",
    "dphi = 2*np.pi/ (2*L-1)\n",
    "quad_bis = np.sin(thetas) * dtheta * dphi\n",
    "\n",
    "print('\\n Ratio = ', quad_bis / quad)"
   ],
   "metadata": {
    "collapsed": false,
    "ExecuteTime": {
     "end_time": "2023-05-16T13:44:16.216155146Z",
     "start_time": "2023-05-16T13:44:16.207905656Z"
    }
   }
  },
  {
   "cell_type": "code",
   "execution_count": 231,
   "outputs": [
    {
     "data": {
      "text/plain": "Array(0.0989478, dtype=float64)"
     },
     "execution_count": 231,
     "metadata": {},
     "output_type": "execute_result"
    }
   ],
   "source": [
    "np.sum(quad)"
   ],
   "metadata": {
    "collapsed": false,
    "ExecuteTime": {
     "end_time": "2023-05-16T13:44:16.581067543Z",
     "start_time": "2023-05-16T13:44:16.563221453Z"
    }
   }
  },
  {
   "cell_type": "markdown",
   "source": [
    "# Mean on map or alm space\n",
    "\n",
    "Average on map space is defined such as\n",
    "$$\\langle f(\\omega) \\rangle_{\\omega} = \\frac{1}{4\\pi}\\int_{\\theta=0}^\\pi\\int_{\\phi=0}^{2\\pi} f(\\omega) d \\Omega$$\n",
    "The surface of the sphere is $4\\pi$ (total solid angle), so we divide by $4\\pi$ to have a proper average.\n",
    "\n",
    "The discretization of the integral depends on the pixellisation. Here we consider the MW  isoangle pixellisation such as $\\delta\\Omega = \\sin\\theta \\delta\\theta \\delta\\varphi$ with $\\delta \\theta = \\text{cst} = \\frac{\\pi}{N_\\theta}$ and $\\delta \\varphi = \\text{cst} = \\frac{2\\pi}{N_\\varphi}$. So we have $$ \\langle f(\\omega) \\rangle_{\\omega} = \\frac{1}{4\\pi}\\sum_p (f_p \\sin\\theta_p )\\frac{\\pi}{N_\\theta}\\frac{2\\pi}{N_\\varphi}.$$\n"
   ],
   "metadata": {
    "collapsed": false
   }
  },
  {
   "cell_type": "code",
   "execution_count": 232,
   "outputs": [],
   "source": [
    "def average_map_MW(I, quad=None):\n",
    "    \"\"\"\n",
    "    <I>_tp = Sum_tp (I * quad) / 4pi\n",
    "    \"\"\"\n",
    "    if quad is None:\n",
    "        L = I.shape[0]\n",
    "        quad = s2fft.quadrature_jax.quad_weights(L, sampling='mw')\n",
    "\n",
    "    avg = np.sum(I * quad[:, None]) / (4*np.pi)\n",
    "    return avg\n",
    "\n",
    "def average_with_f00(Ilm, reality=False):\n",
    "    \"\"\"\n",
    "    <I>_tp = I_00 / 2sqrt(pi)\n",
    "    \"\"\"\n",
    "    # Position of the (l=0,m=0) index\n",
    "    if reality:\n",
    "        l0, m0 = 0, 0\n",
    "    else:\n",
    "        L =  Ilm.shape[0]\n",
    "        l0, m0 = 0, L - 1\n",
    "    avg = Ilm[l0, m0] / (2 * np.sqrt(np.pi))\n",
    "    return avg"
   ],
   "metadata": {
    "collapsed": false,
    "ExecuteTime": {
     "end_time": "2023-05-16T13:44:17.761308622Z",
     "start_time": "2023-05-16T13:44:17.691157180Z"
    }
   }
  },
  {
   "cell_type": "code",
   "execution_count": 233,
   "outputs": [
    {
     "name": "stdout",
     "output_type": "stream",
     "text": [
      "\n",
      " j=0\n",
      "0.9999999999999996\n",
      "0.9999999999999997\n",
      "(1.0000000000000002-6.548161810916603e-34j)\n",
      "(0.9999999999999994+6.548161810916597e-34j)\n",
      "\n",
      " j=1\n",
      "0.9999999999999996\n",
      "0.9999999999999997\n",
      "(1.0000000000000002-6.548161810916603e-34j)\n",
      "(0.9999999999999994+6.548161810916597e-34j)\n",
      "\n",
      " j=2\n",
      "0.9999999999999997\n",
      "0.9999999999999997\n",
      "(1+0j)\n",
      "(0.9999999999999997+0j)\n",
      "\n",
      " j=3\n",
      "1.0000000000000002\n",
      "0.9999999999999988\n",
      "(1+2.031772503979135e-34j)\n",
      "(0.9999999999999988-2.0317725039791325e-34j)\n",
      "\n",
      " j=4\n",
      "1.0000000000000049\n",
      "0.9999999999999976\n",
      "(1-4.897707837373648e-34j)\n",
      "(0.9999999999999976+4.897707837373636e-34j)\n",
      "\n",
      " j=5\n",
      "1.0000000000000053\n",
      "0.9999999999999999\n",
      "(1-2.7887843557781477e-16j)\n",
      "(0.9999999999999999+2.788784355778147e-16j)\n",
      "\n",
      " j=6\n",
      "1.0000000000000053\n",
      "0.9999999999999999\n",
      "(1-2.7887843557781477e-16j)\n",
      "(0.9999999999999999+2.788784355778147e-16j)\n"
     ]
    }
   ],
   "source": [
    "for j in range(J_min, J_max + 1):\n",
    "    Lj = s2wav.utils.shapes.wav_j_bandlimit(L, j, 2.0, multiresolution)\n",
    "    print(f'\\n {j=}')\n",
    "    print(np.mean(I[j-J_min]))\n",
    "\n",
    "    print(average_map_MW(I[j-J_min], quad=quads[j-J_min]))\n",
    "    print(average_with_f00(Ilm[j-J_min], reality=False))\n",
    "    print(average_map_MW(I[j-J_min], quad=quads[j-J_min]) / average_with_f00(Ilm[j-J_min], reality=False))"
   ],
   "metadata": {
    "collapsed": false,
    "ExecuteTime": {
     "end_time": "2023-05-16T13:44:19.134954256Z",
     "start_time": "2023-05-16T13:44:19.103645136Z"
    }
   }
  },
  {
   "cell_type": "markdown",
   "source": [
    "# Variance in map or alm space\n",
    "\n",
    "$$Var[f(\\omega)] = \\langle |f(\\omega) - \\langle f(\\omega) \\rangle |^2 \\rangle_\\omega $$\n",
    "\n",
    "We have seen that the mean in map space is proportional to the $(\\ell=0, m=0)$ term of the spherical harmonic transform. Then, substracting the mean in map space is equivalent to remove the first term in alm space.\n",
    "\n",
    "So in $a_{\\ell m}$ space, we can write\n",
    "$$ Var[f(\\omega)] = \\frac{1}{4\\pi} \\sum_{(\\ell, m) \\neq (0, 0)} |f_{\\ell m}|^2 $$\n",
    "\n",
    "Remark: for this test, the input map must not be 1 everywhere in order to have a non zero variance."
   ],
   "metadata": {
    "collapsed": false
   }
  },
  {
   "cell_type": "code",
   "execution_count": 183,
   "outputs": [],
   "source": [
    "def variance_map_MW(I, quad):\n",
    "    \"\"\"\n",
    "    Var(I) = <|I - <I>_tp|^2>_tp\n",
    "    \"\"\"\n",
    "    # Substract the mean\n",
    "    I_mean0 = I - average_map_MW(I, quad)\n",
    "    # Compute the variance\n",
    "    var = average_map_MW(I_mean0 * np.conj(I_mean0), quad)\n",
    "    return var\n",
    "\n",
    "def variance_flm(Ilm, reality):\n",
    "    \"\"\"\n",
    "    Var(I) = Sum_(lm not 00) |Ilm|^2 / 4pi\n",
    "    \"\"\"\n",
    "\n",
    "    # Position of the (l=0,m=0) index\n",
    "    if reality:\n",
    "        l0, m0 = 0, 0\n",
    "    else:\n",
    "        L =  Ilm.shape[0]\n",
    "        l0, m0 = 0, L - 1\n",
    "\n",
    "    # Compute |Ilm|^2 = Ilm x Ilm*\n",
    "    Ilm_square = Ilm * np.conj(Ilm)\n",
    "\n",
    "    # Compute the variance\n",
    "    var = (np.sum(Ilm_square) - Ilm_square[l0, m0]) / (4*np.pi)\n",
    "    return var"
   ],
   "metadata": {
    "collapsed": false,
    "ExecuteTime": {
     "end_time": "2023-05-16T09:04:53.488965318Z",
     "start_time": "2023-05-16T09:04:53.478206317Z"
    }
   }
  },
  {
   "cell_type": "code",
   "execution_count": 187,
   "outputs": [
    {
     "name": "stdout",
     "output_type": "stream",
     "text": [
      "4\n",
      "\n",
      " j=0\n",
      "4\n",
      "\n",
      " j=1\n",
      "8\n",
      "\n",
      " j=2\n",
      "16\n",
      "\n",
      " j=3\n",
      "32\n",
      "\n",
      " j=4\n",
      "64\n",
      "\n",
      " j=5\n",
      "64\n",
      "\n",
      " j=6\n",
      "[Array(0.69492455, dtype=float64), Array(0.69492455, dtype=float64), Array(0.63039624, dtype=float64), Array(0.70258112, dtype=float64), Array(0.59022983, dtype=float64), Array(0.62978933, dtype=float64), Array(0.62978933, dtype=float64)] [Array(0.64804509-3.92643254e-18j, dtype=complex128), Array(0.64804509-3.92643254e-18j, dtype=complex128), Array(0.63675645+1.18315314e-18j, dtype=complex128), Array(0.70146368-2.36722721e-19j, dtype=complex128), Array(0.59168048+7.66197538e-19j, dtype=complex128), Array(0.62995276-4.41688249e-19j, dtype=complex128), Array(0.62995276-4.41688249e-19j, dtype=complex128)]\n"
     ]
    },
    {
     "data": {
      "text/plain": "<matplotlib.legend.Legend at 0x7f9e970a36d0>"
     },
     "execution_count": 187,
     "metadata": {},
     "output_type": "execute_result"
    },
    {
     "data": {
      "text/plain": "<Figure size 640x480 with 1 Axes>",
      "image/png": "[encoded data removed]"
     },
     "metadata": {},
     "output_type": "display_data"
    }
   ],
   "source": [
    "var_map, var_flm = [], []\n",
    "all_Lj = np.zeros(J)\n",
    "i = 0\n",
    "for j in range(J_min, J_max + 1):\n",
    "    Lj = s2wav.utils.shapes.wav_j_bandlimit(L, j, 2.0, multiresolution)\n",
    "    all_Lj[i] = Lj\n",
    "    print(Lj)\n",
    "\n",
    "    print(f'\\n {j=}')\n",
    "\n",
    "    var_map.append(variance_map_MW(I[j-J_min], quads[j-J_min]))\n",
    "    var_flm.append(variance_flm(Ilm[j-J_min], reality=False))\n",
    "    i+=1\n",
    "\n",
    "print(var_map, var_flm)\n",
    "\n",
    "allj = np.arange(J_min, J_max + 1)\n",
    "X = all_Lj * (2*all_Lj -1)\n",
    "\n",
    "plt.figure()\n",
    "# plt.plot(var_map, 'o', label='map space')\n",
    "# plt.plot(var_flm, 'o', label='flm space')\n",
    "plt.plot(np.array(var_flm)/np.array(var_map), 'o', label='ratio')\n",
    "plt.plot(np.ones(7))\n",
    "# plt.plot(X, X+var_map[0], 'k--')\n",
    "plt.legend()"
   ],
   "metadata": {
    "collapsed": false,
    "ExecuteTime": {
     "end_time": "2023-05-16T09:06:19.418983995Z",
     "start_time": "2023-05-16T09:06:19.213780345Z"
    }
   }
  },
  {
   "cell_type": "markdown",
   "source": [
    "# Check Parseval\n",
    "\n",
    "We want to verify the Parseval theorem\n",
    "$$ \\langle |f(\\omega)|^2 \\rangle_{\\omega} = \\langle |f_{\\ell m}|^2 \\rangle_{\\ell m}. $$"
   ],
   "metadata": {
    "collapsed": false
   }
  },
  {
   "cell_type": "code",
   "execution_count": 171,
   "outputs": [],
   "source": [
    "def average_alm(Ilm):\n",
    "    avg = np.sum(Ilm) / (4 * np.pi)\n",
    "    return avg\n",
    "\n",
    "def scalar_product_map_MW(I1, I2, quad):\n",
    "    sp = average_map_MW(I1 * np.conj(I2), quad=quad)\n",
    "    return sp\n",
    "\n",
    "def scalar_product_flm(Ilm1, Ilm2):\n",
    "    sp = average_alm(Ilm1 * np.conj(Ilm2))\n",
    "    return sp"
   ],
   "metadata": {
    "collapsed": false,
    "ExecuteTime": {
     "end_time": "2023-05-15T16:05:45.922940934Z",
     "start_time": "2023-05-15T16:05:45.872457873Z"
    }
   }
  },
  {
   "cell_type": "code",
   "execution_count": 189,
   "outputs": [
    {
     "name": "stdout",
     "output_type": "stream",
     "text": [
      "\n",
      " j=0 Lj=4\n",
      "0.7411632781800181\n",
      "(0.6942838184881116-3.926432543664109e-18j)\n",
      "(1.0675220398971594+6.037233141424101e-18j)\n",
      "\n",
      " j=1 Lj=4\n",
      "0.7411632781800181\n",
      "(0.6942838184881116-3.926432543664109e-18j)\n",
      "(1.0675220398971594+6.037233141424101e-18j)\n",
      "\n",
      " j=2 Lj=8\n",
      "0.6358642135937734\n",
      "(0.6422244222779817+1.183153139635468e-18j)\n",
      "(0.9900965947983595-1.824028881559752e-18j)\n",
      "\n",
      " j=3 Lj=16\n",
      "0.7027932799180541\n",
      "(0.7016758351609552-2.36722720598896e-19j)\n",
      "(1.0015925370393333+3.3790491052768537e-19j)\n",
      "\n",
      " j=4 Lj=32\n",
      "0.5917279538472553\n",
      "(0.5931786109976966+7.661975384784568e-19j)\n",
      "(0.9975544344931767-1.288522104533383e-18j)\n",
      "\n",
      " j=5 Lj=64\n",
      "0.63033046716834\n",
      "(0.6304938939446628-4.416882488798524e-19j)\n",
      "(0.9997407956240458+7.003616777162496e-19j)\n",
      "\n",
      " j=6 Lj=64\n",
      "0.63033046716834\n",
      "(0.6304938939446628-4.416882488798524e-19j)\n",
      "(0.9997407956240458+7.003616777162496e-19j)\n"
     ]
    },
    {
     "data": {
      "text/plain": "<Figure size 640x480 with 0 Axes>"
     },
     "metadata": {},
     "output_type": "display_data"
    }
   ],
   "source": [
    "plt.figure()\n",
    "for j in range(J_min, J_max + 1):\n",
    "    Lj = s2wav.utils.shapes.wav_j_bandlimit(L, j, 2.0, multiresolution)\n",
    "    print(f'\\n {j=} {Lj=}')\n",
    "\n",
    "    # Map space\n",
    "    left_term = scalar_product_map_MW(I[j-J_min], I[j-J_min], quads[j-J_min])\n",
    "\n",
    "    # flm space\n",
    "    right_term = scalar_product_flm(Ilm[j-J_min], Ilm[j-J_min])\n",
    "\n",
    "    print(left_term)\n",
    "    print(right_term)\n",
    "\n",
    "\n",
    "    print(left_term/right_term)\n"
   ],
   "metadata": {
    "collapsed": false,
    "ExecuteTime": {
     "end_time": "2023-05-16T09:08:56.649183222Z",
     "start_time": "2023-05-16T09:08:56.636733254Z"
    }
   }
  },
  {
   "cell_type": "markdown",
   "source": [
    "# Check P00 computation\n",
    "\n",
    "$P_{00} = \\langle |W|^2\\rangle_{\\theta\\phi} = \\langle M_{\\ell m}^2\\rangle_{\\ell m}$\n",
    "\n",
    "et on calcule aussi $S_1^2/ P_{00}$."
   ],
   "metadata": {
    "collapsed": false
   }
  },
  {
   "cell_type": "code",
   "execution_count": 235,
   "outputs": [
    {
     "name": "stdout",
     "output_type": "stream",
     "text": [
      "4 4\n"
     ]
    }
   ],
   "source": [
    "sampling = \"mw\"\n",
    "multiresolution = True\n",
    "reality = True\n",
    "\n",
    "L = 16\n",
    "N = 2\n",
    "J_min = 1\n",
    "nside = None\n",
    "\n",
    "J_max = s2wav.utils.shapes.j_max(L)\n",
    "J = J_max -J_min + 1  # Number of scale used\n",
    "print(J_max, J)\n",
    "\n",
    "# ## One everywhere\n",
    "# I0 = np.ones((L, 2 * L - 1)).astype(np.float64)\n",
    "# Ilm = s2fft.forward_jax(I0, L, sampling=sampling, nside=nside)\n",
    "## I.append(s2fft.inverse_jax(Ilm, L, reality=reality))\n",
    "\n",
    "# Gaussian noise\n",
    "np.random.seed(2)\n",
    "I0 = np.random.randn(L, 2 * L - 1).astype(np.float64)\n",
    "Ilm = s2fft.forward_jax(I0, L, sampling=sampling, nside=nside)\n",
    "# I.append(s2fft.inverse_jax(Ilm, L, reality=reality))\n",
    "\n",
    "# Planet\n",
    "# I0, Ilm = sphlib.make_planet(L, 'venus', normalize=False, reality=False)\n",
    "#I.append(s2fft.inverse_jax(Ilm, L, reality=False))"
   ],
   "metadata": {
    "collapsed": false,
    "ExecuteTime": {
     "end_time": "2023-05-16T13:47:04.275908923Z",
     "start_time": "2023-05-16T13:47:04.263970086Z"
    }
   }
  },
  {
   "cell_type": "code",
   "execution_count": 236,
   "outputs": [
    {
     "name": "stdout",
     "output_type": "stream",
     "text": [
      "(5, 16, 31)\n"
     ]
    },
    {
     "data": {
      "text/plain": "<Figure size 800x600 with 1 Axes>",
      "image/png": "[encoded data removed]"
     },
     "metadata": {},
     "output_type": "display_data"
    }
   ],
   "source": [
    "filters = filters_directional_vectorised(L, N, J_min)\n",
    "plot.plot_filters(filters, real=False, m=L-2)\n",
    "\n",
    "filters = filters[0]\n",
    "print(filters.shape)"
   ],
   "metadata": {
    "collapsed": false,
    "ExecuteTime": {
     "end_time": "2023-05-16T13:47:05.171117933Z",
     "start_time": "2023-05-16T13:47:04.881735034Z"
    }
   }
  },
  {
   "cell_type": "code",
   "execution_count": 237,
   "outputs": [
    {
     "name": "stdout",
     "output_type": "stream",
     "text": [
      "Lj 4\n",
      "Lj 8\n",
      "Lj 16\n",
      "Lj 16\n",
      "quad 4 (4,) (8,)\n",
      "W 4 (3, 4, 7) (3, 16, 31)\n",
      "\n",
      " j2=1\n",
      "Lj2=4\n",
      "P00 1st way [0.0086859  0.00539822 0.00484686]\n",
      "P00 2nd way [0.00840894 0.00524997 0.00454823]\n",
      "Ratio [1.03293653 1.02823845 1.06566023]\n",
      "\n",
      " j2=2\n",
      "Lj2=8\n",
      "P00 1st way [0.02056827 0.02180431 0.01889887]\n",
      "P00 2nd way [0.01867388 0.02023785 0.01812888]\n",
      "Ratio [1.10144594 1.07740209 1.04247305]\n",
      "\n",
      " j2=3\n",
      "Lj2=16\n",
      "P00 1st way [0.04790041 0.03751783 0.03882138]\n",
      "P00 2nd way [0.04257459 0.0336905  0.03545092]\n",
      "Ratio [1.12509404 1.11360245 1.09507381]\n",
      "\n",
      " j2=4\n",
      "Lj2=16\n",
      "P00 1st way [0.04631954 0.04270267 0.03784745]\n",
      "P00 2nd way [0.04270017 0.03764608 0.03340733]\n",
      "Ratio [1.08476254 1.13431927 1.13290886]\n"
     ]
    }
   ],
   "source": [
    "import jax.numpy as jnp\n",
    "import jax.lax as lax\n",
    "\n",
    "S1, P001, P002 = [], [], []\n",
    "\n",
    "quads = []\n",
    "for j in range(J_min, J_max + 1):\n",
    "    Lj = s2wav.utils.shapes.wav_j_bandlimit(L, j, 2.0, multiresolution)\n",
    "    print('Lj', Lj)\n",
    "    quads.append(s2fft.quadrature_jax.quad_weights(Lj, sampling, nside))  # [J][Lj]\n",
    "print('quad', len(quads), quads[0].shape, quads[1].shape)\n",
    "\n",
    "### Perform first (full-scale) wavelet transform W_j2 = I * Psi_j2\n",
    "W = s2wav.flm_to_analysis(\n",
    "    Ilm,\n",
    "    L,\n",
    "    N,\n",
    "    J_min,\n",
    "    sampling=sampling,\n",
    "    nside=nside,\n",
    "    reality=reality,\n",
    "    multiresolution=multiresolution,\n",
    "    filters=filters,\n",
    "    precomps=None\n",
    ")  # [J2][Norient2, Nthetaj2, Nphij2]=[J][2N-1, Lj, 2Lj-1]\n",
    "print('W', len(W), W[0].shape, W[-1].shape)\n",
    "\n",
    "for j2 in range(J_min, J_max + 1):\n",
    "    print(f'\\n {j2=}')\n",
    "    # Subsampling: the resolution in the plane (l, m) is adapted at each scale j2\n",
    "    Lj2 = s2wav.utils.shapes.wav_j_bandlimit(L, j2, 2.0, multiresolution)  # Band limit at resolution j2\n",
    "    print(f'{Lj2=}')\n",
    "\n",
    "    def modulus_step_for_j(n, args):\n",
    "        \"\"\"\n",
    "        Compute M_lm = |W|_lm for one orientation.\n",
    "        This function is re-defined at each step j2.\n",
    "        \"\"\"\n",
    "        M_lm = args\n",
    "        M_lm = M_lm.at[n].add(\n",
    "            s2fft.forward_jax(\n",
    "                jnp.abs(W[j2 - J_min][n]),\n",
    "                Lj2,\n",
    "                0,\n",
    "                sampling=sampling,\n",
    "                nside=nside,\n",
    "                reality=reality,\n",
    "            )\n",
    "        )\n",
    "        return M_lm  # [Lj2, Mj2] = [Lj2, 2Lj2-1]\n",
    "\n",
    "    ### Compute M_lm for all orientations\n",
    "    # Initialization\n",
    "    M_lm_j2 = jnp.zeros((2 * N - 1, Lj2, 2 * Lj2 - 1), dtype=jnp.complex128)  # [Norient2, Lj2, Mj2]\n",
    "    # Loop on orientations\n",
    "    M_lm_j2 = lax.fori_loop(0, 2 * N - 1, modulus_step_for_j, M_lm_j2)  # [Norient2, Lj2, Mj2]\n",
    "\n",
    "    ### Compute S1_j2 = < M_lm >_j2\n",
    "    # Take the value at (l=0, m=0) which corresponds to indices (0, Lj2-1)\n",
    "    # Todo!! A priori ok\n",
    "    s1 = M_lm_j2[:, 0, Lj2 - 1] / (2 * jnp.sqrt(jnp.pi))  # [Norient2]\n",
    "    S1.append(s1)\n",
    "\n",
    "    ### Compute P00_j2 = < |M_lm|^2 >_j2\n",
    "    # Average over lm (Parseval)\n",
    "    # Todo!!\n",
    "    p001 = jnp.sum((jnp.abs(W[j2 - J_min]) ** 2) * quads[j2-J_min][None, :, None], axis=(-1, -2)) / (4 * np.pi)\n",
    "    print('P00 1st way', p001)\n",
    "\n",
    "    p002 = jnp.sum(jnp.abs(M_lm_j2)** 2, axis=(-1, -2)) / (4 * np.pi)  # [Norient2]\n",
    "    print('P00 2nd way', jnp.real(p002))\n",
    "    print('Ratio', p001/jnp.real(p002))\n",
    "\n",
    "    P001.append(p001)\n",
    "    P002.append(p002)\n",
    "\n",
    "S1 = np.array(S1)\n",
    "P001 = np.array(P001)\n",
    "P002 = np.array(P002)"
   ],
   "metadata": {
    "collapsed": false,
    "ExecuteTime": {
     "end_time": "2023-05-16T13:47:20.958684291Z",
     "start_time": "2023-05-16T13:47:05.342894365Z"
    }
   }
  },
  {
   "cell_type": "code",
   "execution_count": 237,
   "outputs": [],
   "source": [],
   "metadata": {
    "collapsed": false,
    "ExecuteTime": {
     "end_time": "2023-05-16T13:47:20.962865490Z",
     "start_time": "2023-05-16T13:47:20.959670274Z"
    }
   }
  },
  {
   "cell_type": "code",
   "execution_count": 238,
   "outputs": [
    {
     "data": {
      "text/plain": "<matplotlib.legend.Legend at 0x7f9e88af1c60>"
     },
     "execution_count": 238,
     "metadata": {},
     "output_type": "execute_result"
    },
    {
     "data": {
      "text/plain": "<Figure size 640x480 with 1 Axes>",
      "image/png": "[encoded data removed]"
     },
     "metadata": {},
     "output_type": "display_data"
    }
   ],
   "source": [
    "plt.figure()\n",
    "plt.plot(P001 / P002, 'o', label='Ratio')\n",
    "plt.legend()"
   ],
   "metadata": {
    "collapsed": false,
    "ExecuteTime": {
     "end_time": "2023-05-16T13:47:21.132853085Z",
     "start_time": "2023-05-16T13:47:20.964764097Z"
    }
   }
  },
  {
   "cell_type": "code",
   "execution_count": 239,
   "outputs": [
    {
     "name": "stdout",
     "output_type": "stream",
     "text": [
      "[[0.72013135+0.j 0.74546804+0.j 0.70262311+0.j]\n",
      " [0.72021397+0.j 0.66875245+0.j 0.66546203+0.j]\n",
      " [0.61634216+0.j 0.59014022+0.j 0.65041102+0.j]\n",
      " [0.64547009+0.j 0.62949771+0.j 0.64706145+0.j]]\n",
      "[[0.74384998+0.j 0.7665189 +0.j 0.7487575 +0.j]\n",
      " [0.79327675+0.j 0.72051529+0.j 0.69372623+0.j]\n",
      " [0.69344289+0.j 0.6571816 +0.j 0.71224807+0.j]\n",
      " [0.70018178+0.j 0.71405138+0.j 0.73306165+0.j]]\n"
     ]
    },
    {
     "data": {
      "text/plain": "<matplotlib.legend.Legend at 0x7f9e88b29de0>"
     },
     "execution_count": 239,
     "metadata": {},
     "output_type": "execute_result"
    },
    {
     "data": {
      "text/plain": "<Figure size 640x480 with 1 Axes>",
      "image/png": "[encoded data removed]"
     },
     "metadata": {},
     "output_type": "display_data"
    }
   ],
   "source": [
    "print(S1**2 / P001)\n",
    "print(S1**2 / P002)\n",
    "\n",
    "plt.figure()\n",
    "plt.plot(np.mean(S1**2 / P001, axis=1), 'o', label='1st way')\n",
    "plt.plot(np.mean(S1**2 / P002, axis=1), 'o', label='2nd way')\n",
    "plt.legend()"
   ],
   "metadata": {
    "collapsed": false,
    "ExecuteTime": {
     "end_time": "2023-05-16T13:47:21.359479569Z",
     "start_time": "2023-05-16T13:47:21.150336980Z"
    }
   }
  },
  {
   "cell_type": "code",
   "execution_count": null,
   "outputs": [],
   "source": [],
   "metadata": {
    "collapsed": false
   }
  }
 ],
 "metadata": {
  "kernelspec": {
   "display_name": "Python 3",
   "language": "python",
   "name": "python3"
  },
  "language_info": {
   "codemirror_mode": {
    "name": "ipython",
    "version": 2
   },
   "file_extension": ".py",
   "mimetype": "text/x-python",
   "name": "python",
   "nbconvert_exporter": "python",
   "pygments_lexer": "ipython2",
   "version": "2.7.6"
  }
 },
 "nbformat": 4,
 "nbformat_minor": 0
}
